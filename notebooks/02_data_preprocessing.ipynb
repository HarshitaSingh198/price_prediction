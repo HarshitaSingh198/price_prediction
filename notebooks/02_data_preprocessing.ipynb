{
 "cells": [
  {
   "cell_type": "code",
   "execution_count": null,
   "metadata": {},
   "outputs": [],
   "source": [
    "# Import necessary libraries\n",
    "import pandas as pd\n",
    "import numpy as np\n",
    "from sklearn.model_selection import train_test_split\n",
    "from sklearn.preprocessing import StandardScaler, LabelEncoder\n"
   ]
  },
  {
   "cell_type": "code",
   "execution_count": null,
   "metadata": {},
   "outputs": [],
   "source": [
    "# Load the processed data from the previous notebook\n",
    "data = pd.read_csv('../data/processed/processed_data.csv')\n",
    "\n",
    "# Display the first few rows to verify it loaded correctly\n",
    "print(data.head())\n"
   ]
  },
  {
   "cell_type": "code",
   "execution_count": null,
   "metadata": {},
   "outputs": [],
   "source": [
    "# Check for missing values in the dataset\n",
    "print(data.isnull().sum())\n",
    "\n",
    "# Fill missing numerical values with the mean\n",
    "data.fillna(data.mean(), inplace=True)\n",
    "\n",
    "# Verify that there are no more missing values\n",
    "print(data.isnull().sum())\n"
   ]
  },
  {
   "cell_type": "code",
   "execution_count": null,
   "metadata": {},
   "outputs": [],
   "source": [
    "# Initialize the label encoder\n",
    "label_encoder = LabelEncoder()\n",
    "\n",
    "# Example: Convert a categorical column to numerical using LabelEncoder\n",
    "# Replace 'category_column' with the actual column name\n",
    "data['category_column'] = label_encoder.fit_transform(data['category_column'])\n",
    "\n",
    "# If you have multiple categories, you might want to use OneHotEncoder\n",
    "# data = pd.get_dummies(data, columns=['category_column1', 'category_column2'])\n"
   ]
  },
  {
   "cell_type": "code",
   "execution_count": null,
   "metadata": {},
   "outputs": [],
   "source": [
    "# Example: Create a new feature as the difference between two columns\n",
    "# Replace 'column1' and 'column2' with actual column names\n",
    "data['new_feature'] = data['column1'] - data['column2']\n",
    "\n",
    "# Another example: Create lag features for time series data\n",
    "# Replace 'target_column' with the actual column name\n",
    "data['lag_feature'] = data['target_column'].shift(1)\n",
    "\n",
    "# Drop rows with NaN values introduced by the shift operation\n",
    "data.dropna(inplace=True)\n"
   ]
  },
  {
   "cell_type": "code",
   "execution_count": null,
   "metadata": {},
   "outputs": [],
   "source": [
    "# Initialize the standard scaler\n",
    "scaler = StandardScaler()\n",
    "\n",
    "# Specify the columns you want to scale\n",
    "numerical_columns = ['feature1', 'feature2', 'feature3']  # Replace with your actual column names\n",
    "data[numerical_columns] = scaler.fit_transform(data[numerical_columns])\n"
   ]
  },
  {
   "cell_type": "code",
   "execution_count": null,
   "metadata": {},
   "outputs": [],
   "source": [
    "# Assuming 'target' is the column you're trying to predict\n",
    "X = data.drop(columns=['target'])\n",
    "y = data['target']\n",
    "\n",
    "# Split the data: 80% training, 20% testing\n",
    "X_train, X_test, y_train, y_test = train_test_split(X, y, test_size=0.2, random_state=42)\n",
    "\n",
    "# Optional: Save the splits as separate files\n",
    "X_train.to_csv('../data/processed/X_train.csv', index=False)\n",
    "X_test.to_csv('../data/processed/X_test.csv', index=False)\n",
    "y_train.to_csv('../data/processed/y_train.csv', index=False)\n",
    "y_test.to_csv('../data/processed/y_test.csv', index=False)\n"
   ]
  },
  {
   "cell_type": "code",
   "execution_count": null,
   "metadata": {},
   "outputs": [],
   "source": [
    "# Save the entire processed data if not splitting\n",
    "data.to_csv('../data/processed/processed_data_final.csv', index=False)\n"
   ]
  }
 ],
 "metadata": {
  "kernelspec": {
   "display_name": "Python 3 (ipykernel)",
   "language": "python",
   "name": "python3"
  },
  "language_info": {
   "codemirror_mode": {
    "name": "ipython",
    "version": 3
   },
   "file_extension": ".py",
   "mimetype": "text/x-python",
   "name": "python",
   "nbconvert_exporter": "python",
   "pygments_lexer": "ipython3",
   "version": "3.10.8"
  }
 },
 "nbformat": 4,
 "nbformat_minor": 4
}
